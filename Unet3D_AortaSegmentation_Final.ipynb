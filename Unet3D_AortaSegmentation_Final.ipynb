{
 "cells": [
  {
   "cell_type": "code",
   "execution_count": 3,
   "id": "fd369e5b",
   "metadata": {},
   "outputs": [
    {
     "name": "stderr",
     "output_type": "stream",
     "text": [
      "2024-08-22 14:49:33.478245: I tensorflow/core/util/util.cc:169] oneDNN custom operations are on. You may see slightly different numerical results due to floating-point round-off errors from different computation orders. To turn them off, set the environment variable `TF_ENABLE_ONEDNN_OPTS=0`.\n"
     ]
    }
   ],
   "source": [
    "import tensorflow_mri as tfmr\n",
    "import numpy as np\n",
    "from sklearn.model_selection import train_test_split\n",
    "from glob import glob\n",
    "import tensorflow as tf\n",
    "import tensorflow.keras.backend as K\n",
    "import random\n",
    "import matplotlib.pyplot as plt\n",
    "from skimage import exposure\n",
    "import scipy\n",
    "import os\n",
    "\n",
    "os.environ[\"CUDA_VISIBLE_DEVICES\"] = \"0\""
   ]
  },
  {
   "cell_type": "code",
   "execution_count": null,
   "id": "cfdfad0e",
   "metadata": {},
   "outputs": [],
   "source": [
    "import neptune\n",
    "from neptune.new.integrations.tensorflow_keras import NeptuneCallback\n",
    "\n",
    "continue_training = True\n",
    "model_name = ' '\n",
    "\n",
    "if continue_training:\n",
    "    run = neptune.init_run(\n",
    "        project=\" \",\n",
    "        api_token=\" \",\n",
    "        with_id = model_name)  \n",
    "else:\n",
    "    run = neptune.init_run(\n",
    "        project=\" \",\n",
    "        api_token=\" \",\n",
    "    ) \n",
    "    model_name = list(run.__dict__.values())[-6] #new model"
   ]
  },
  {
   "cell_type": "code",
   "execution_count": null,
   "id": "89fad87d",
   "metadata": {},
   "outputs": [],
   "source": [
    "patients = [pat.replace('.npy','') for pat in glob('data/Pairs71/*')] # This should be the input data (image+mask) for training.\n",
    "train_patients, val_patients = train_test_split(patients,test_size=0.3)"
   ]
  },
  {
   "cell_type": "code",
   "execution_count": null,
   "id": "bd641587",
   "metadata": {},
   "outputs": [],
   "source": [
    "class CustomDataGen():    \n",
    "    def __init__(self, patients, cohort):\n",
    "        random.shuffle(patients)\n",
    "        self.patients = patients\n",
    "        self.cohort = cohort                \n",
    "    def data_generator(self):\n",
    "        for patient in self.patients:\n",
    "            image_mask = np.load(f\"{patient}.npy\")\n",
    "            image = image_mask[...,0]\n",
    "            mask = image_mask[...,1]\n",
    "            image= normalize(image)\n",
    "            image= aug_down_gamma_up(image)\n",
    "            image=image[...,np.newaxis]\n",
    "            mask=mask[...,np.newaxis]\n",
    "            bkg = np.zeros(mask.shape[:2])\n",
    "            bkg = np.where(np.sum(mask,-1) == 1, 0, 1)\n",
    "            mask = np.concatenate([bkg[...,np.newaxis],mask], -1)\n",
    "            image=normalize(image)\n",
    "            yield image, mask.astype('uint8')           \n",
    "    def get_gen(self):\n",
    "        return self.data_generator() \t \n",
    "          \n",
    "def normalize(image):\n",
    "    mean = np.mean(image)\n",
    "    std = np.std(image)\n",
    "    if std != 0:\n",
    "        norm = (image - mean) / std\n",
    "    else:\n",
    "        norm = np.zeros_like(image)\n",
    "    return norm\n",
    "\n",
    "def random_gamma(img2):\n",
    "    num_slice = random.randint(0, 3) \n",
    "    if num_slice != 0:\n",
    "        start_slice = random.randint(0, img2.shape[0] - 4)\n",
    "        selected_slices = list(range(start_slice, start_slice + num_slice))\n",
    "        #print(selected_slices) \n",
    "        for i in range(num_slice):\n",
    "            slice_i = img2[selected_slices[i], :, :]\n",
    "            slice_i = np.clip(slice_i, 0, None)\n",
    "            gamma=round(np.random.beta(1, 5) * 0.2 + 0.5, 1) \n",
    "            ad_slice = exposure.adjust_gamma(slice_i, gamma)\n",
    "            img2[selected_slices[i], :, :] = ad_slice\n",
    "    return img2\n",
    "\n",
    "def random_dark(image):\n",
    "    num_slice = random.randint(0, 2) \n",
    "    if num_slice != 0:\n",
    "        start_slice = random.randint(0, image.shape[0] - 5)\n",
    "        selected_slices = list(range(start_slice, start_slice + num_slice))\n",
    "        #print(selected_slices)\n",
    "        for i in range(num_slice):\n",
    "            slice_i = image[selected_slices[i], :, :]\n",
    "            slice_i = np.clip(slice_i, 0, None)\n",
    "            gamma=round(random.uniform(1.2, 1.7), 1) \n",
    "            ad_slice = exposure.adjust_gamma(slice_i, gamma)\n",
    "            image[selected_slices[i], :, :] = ad_slice\n",
    "    return image\n",
    "\n",
    "def aug_down_gamma_up(image):\n",
    "    resolu= round(random.uniform(5.0, 7.5), 1) # this down-sampling scaling parameter is given by (slices spacing/pixel spacing); slice spacing varies between 8-12 mm, pixel spacing=1.6 mm\n",
    "    adj_image=scipy.ndimage.zoom(image, (1/resolu,1,1), order=1, mode='constant')\n",
    "    gamma_image=random_gamma(adj_image)\n",
    "    dark_image=random_dark(gamma_image)\n",
    "    image3d=scipy.ndimage.zoom(dark_image, (resolu,1,1), order=3, mode='constant')\n",
    "    if image3d.shape[0] >= 144:\n",
    "        image3d= image3d[:144, :, :] # Crop the bottom\n",
    "    elif image3d.shape[0] < 144:\n",
    "        bottom_pad = 144 - image3d.shape[0]\n",
    "        image3d = np.pad(image3d, ((0, bottom_pad), (0, 0), (0, 0)), mode='constant', constant_values=0)\n",
    "    return image3d"
   ]
  },
  {
   "cell_type": "code",
   "execution_count": null,
   "id": "86faa141",
   "metadata": {},
   "outputs": [],
   "source": [
    "output_channel=2\n",
    "batch_size = 1\n",
    "input_shape = [None,None,None,1]  #Image of all size can be used for training and testing. I choose (144, 116, 96) to match with my external testing image size.\n",
    "output_shape = [None,None,None,output_channel] \n",
    "\n",
    "train_gen = CustomDataGen(train_patients, 'train').get_gen\n",
    "val_gen   = CustomDataGen(val_patients, 'val').get_gen\n",
    "\n",
    "output_signature = (tf.TensorSpec(shape=input_shape, dtype=tf.float32), tf.TensorSpec(shape=output_shape, dtype=tf.float32))\n",
    "\n",
    "train_ds = tf.data.Dataset.from_generator(train_gen, output_signature = output_signature)\n",
    "val_ds = tf.data.Dataset.from_generator(val_gen, output_signature = output_signature)\n",
    "\n",
    "train_ds = train_ds.shuffle(42, seed = 42, reshuffle_each_iteration=True).batch(batch_size).prefetch(-1)\n",
    "val_ds = val_ds.batch(batch_size).prefetch(-1)"
   ]
  },
  {
   "cell_type": "code",
   "execution_count": null,
   "id": "e05c78a8",
   "metadata": {},
   "outputs": [],
   "source": [
    "X, y = next(iter(train_ds))"
   ]
  },
  {
   "cell_type": "code",
   "execution_count": null,
   "id": "428f7d19",
   "metadata": {},
   "outputs": [],
   "source": [
    "# Have a look on the training data\n",
    "fig, axs = plt.subplots(1,2)\n",
    "print(X.shape)\n",
    "print(y.shape)\n",
    "axs[0].imshow(X[0,...,47,0],cmap='gray')\n",
    "axs[1].imshow(y[0,...,47,1],cmap='gray')   "
   ]
  },
  {
   "cell_type": "code",
   "execution_count": null,
   "id": "9102c428",
   "metadata": {},
   "outputs": [],
   "source": [
    "# Have a look on the training data\n",
    "for patient in train_patients[:2]:\n",
    "    gen = CustomDataGen([patient], 'train').get_gen\n",
    "    ds = tf.data.Dataset.from_generator(gen, output_signature = output_signature)\n",
    "    X, y = next(iter(ds))\n",
    "    print(patient.split('/')[-1])\n",
    "    fig, axs = plt.subplots(1,2)\n",
    "    axs[0].imshow(X[...,45,0],cmap='gray')\n",
    "    axs[1].imshow(y[...,45,1],cmap='gray')   "
   ]
  },
  {
   "cell_type": "code",
   "execution_count": null,
   "id": "3988fa25",
   "metadata": {},
   "outputs": [],
   "source": [
    "def iou(y_true, y_pred, dtype=tf.float32):\n",
    "    # tf tensor casting\n",
    "    y_pred = tf.convert_to_tensor(y_pred)\n",
    "    y_pred = tf.cast(y_pred[...,1:], dtype)\n",
    "    y_true = tf.cast(y_true[...,1:], y_pred.dtype)\n",
    "\n",
    "    y_pred = tf.squeeze(y_pred)\n",
    "    y_true = tf.squeeze(y_true)\n",
    "    \n",
    "    y_true_pos = tf.reshape(y_true, [-1])\n",
    "    y_pred_pos = tf.reshape(y_pred, [-1])\n",
    "\n",
    "    area_intersect = tf.reduce_sum(tf.multiply(y_true_pos, y_pred_pos))\n",
    "    \n",
    "    area_true = tf.reduce_sum(y_true_pos)\n",
    "    area_pred = tf.reduce_sum(y_pred_pos)\n",
    "    area_union = area_true + area_pred - area_intersect\n",
    "    \n",
    "    return tf.math.divide_no_nan(area_intersect, area_union)\n",
    "\n",
    "def dice_coef(y_true, y_pred, const=K.epsilon()):\n",
    "    \n",
    "    # flatten 2-d tensors\n",
    "    y_true_pos = tf.reshape(y_true[...,1:], [-1])\n",
    "    y_pred_pos = tf.reshape(y_pred[...,1:], [-1])\n",
    "    \n",
    "    # get true pos (TP), false neg (FN), false pos (FP).\n",
    "    true_pos  = tf.reduce_sum(y_true_pos * y_pred_pos)\n",
    "    false_neg = tf.reduce_sum(y_true_pos * (1-y_pred_pos))\n",
    "    false_pos = tf.reduce_sum((1-y_true_pos) * y_pred_pos)\n",
    "    \n",
    "    # 2TP/(2TP+FP+FN) == 2TP/()\n",
    "    coef_val = (2.0 * true_pos + const)/(2.0 * true_pos + false_pos + false_neg)\n",
    "    \n",
    "    return coef_val"
   ]
  },
  {
   "cell_type": "code",
   "execution_count": null,
   "id": "9993bb7c",
   "metadata": {},
   "outputs": [],
   "source": [
    "if continue_training:\n",
    "    model = tf.keras.models.load_model(f'models/{model_name}', compile = False)\n",
    "else:\n",
    "    inputs = tf.keras.Input(shape = [None,None,None,1]) \n",
    "    tf.keras.backend.clear_session()\n",
    "    model = tfmr.models.UNet3D (filters=[64,128,256],\n",
    "                        kernel_size=3,\n",
    "                        out_activation='softmax',\n",
    "                        out_channels = output_channel,\n",
    "                        use_batch_norm=True)\n",
    "\n",
    "model.compile(loss='categorical_crossentropy',\n",
    "              optimizer=tf.keras.optimizers.Adam(learning_rate=0.0001), metrics=[dice_coef,iou])"
   ]
  },
  {
   "cell_type": "code",
   "execution_count": null,
   "id": "db8bb80b",
   "metadata": {},
   "outputs": [],
   "source": [
    "from keras.callbacks import EarlyStopping, ModelCheckpoint\n",
    "es = EarlyStopping(monitor='loss', \n",
    "                   mode='min', \n",
    "                   verbose = 1, \n",
    "                   patience = 10)\n",
    "mc = ModelCheckpoint(f'models/{model_name}',\n",
    "                  save_best_only= True,\n",
    "                    monitor='loss',\n",
    "                    mode='min')\n",
    "neptune_callback = NeptuneCallback(run = run)\n",
    "model.fit(train_ds,\n",
    "          validation_data = val_ds, \n",
    "          epochs=300,\n",
    "          callbacks=[es, mc, neptune_callback])\n",
    "          \n",
    "run['model'].upload(f'models/{model_name}')"
   ]
  },
  {
   "cell_type": "code",
   "execution_count": null,
   "id": "582c1d58",
   "metadata": {},
   "outputs": [],
   "source": [
    "if continue_training:\n",
    "    model = tf.keras.models.load_model(f'models/{model_name}', compile = False)\n",
    "print(model_name)"
   ]
  },
  {
   "cell_type": "code",
   "execution_count": null,
   "id": "ccd3e05f",
   "metadata": {},
   "outputs": [],
   "source": [
    "patient = val_patients[3]\n",
    "X_test = []\n",
    "y_test = []\n",
    "test_gen   = CustomDataGen([patient], 'test').get_gen()\n",
    "for X, y in test_gen:\n",
    "    X_test.append(X)\n",
    "    y_test.append(y)\n",
    "X_test = np.stack(X_test)\n",
    "y_test = np.stack(y_test)"
   ]
  },
  {
   "cell_type": "code",
   "execution_count": null,
   "id": "abaf315f",
   "metadata": {},
   "outputs": [],
   "source": [
    "def get_one_hot(targets, nb_classes):\n",
    "    res = np.eye(nb_classes)[np.array(targets).reshape(-1)]\n",
    "    return res.reshape(list(targets.shape)+[nb_classes])"
   ]
  },
  {
   "cell_type": "code",
   "execution_count": null,
   "id": "19354b10",
   "metadata": {},
   "outputs": [],
   "source": [
    "y_pred = model.predict(X_test)\n",
    "y_pred = get_one_hot(np.argmax(y_pred,axis = -1), 3) #np.argmax return the indice of the max value of an array"
   ]
  },
  {
   "cell_type": "code",
   "execution_count": null,
   "id": "e1d8530b",
   "metadata": {},
   "outputs": [],
   "source": [
    "fig, axs = plt.subplots(1,3,figsize= (12,6))\n",
    "\n",
    "i = 0\n",
    "axs[0].imshow(X_test[i,...,45,0],cmap='gray')\n",
    "axs[1].imshow(y_test[i,...,45,1],cmap='gray')\n",
    "axs[2].imshow(y_pred[i,...,45,1],cmap='gray')"
   ]
  },
  {
   "cell_type": "code",
   "execution_count": null,
   "id": "81f2e46b",
   "metadata": {},
   "outputs": [],
   "source": [
    "from matplotlib import animation"
   ]
  },
  {
   "cell_type": "code",
   "execution_count": null,
   "id": "3ec4f30c",
   "metadata": {},
   "outputs": [],
   "source": [
    "#transverse view\n",
    "for patient in val_patients:\n",
    "    X_test = []\n",
    "    y_test = []\n",
    "    test_gen   = CustomDataGen([patient], 'test').get_gen()\n",
    "    for X, y in test_gen:\n",
    "        X_test.append(X)\n",
    "        y_test.append(y)\n",
    "    X_test = np.stack(X_test)\n",
    "    y_test = np.stack(y_test)\n",
    "    y_pred = model.predict(X_test)\n",
    "    y_pred = get_one_hot(np.argmax(y_pred,axis = -1), 2)\n",
    "\n",
    "    fig, axs = plt.subplots(1,2, figsize = (7,5))\n",
    "    frames = []\n",
    "    for i in range(y_pred.shape[1]):\n",
    "        p1 = axs[0].imshow(X_test[0,i,...,0],cmap = 'gray')\n",
    "        p2 = axs[1].imshow(X_test[0,i,...,0],cmap = 'gray')\n",
    "        p3 = axs[0].imshow(y_test[0,i,...,-1],alpha=y_test[0,i,...,-1] * 0.7,cmap = 'jet') #ground truth\n",
    "        p4 = axs[1].imshow(y_pred[0,i,...,-1],alpha = y_pred[0,i,...,-1] * 0.7,cmap = 'Blues') #prediction\n",
    "        frames.append([p1,p2,p3,p4])\n",
    "    fig.tight_layout()\n",
    "    ani = animation.ArtistAnimation(fig, frames)\n",
    "    ani.save(f\"...gif\", fps=y_pred.shape[1])\n",
    "    run[f\"...\"].upload(f\"...gif\")\n",
    "    plt.close()"
   ]
  },
  {
   "cell_type": "code",
   "execution_count": null,
   "id": "a86badfc",
   "metadata": {},
   "outputs": [],
   "source": []
  }
 ],
 "metadata": {
  "kernelspec": {
   "display_name": "Python 3",
   "language": "python",
   "name": "python3"
  },
  "language_info": {
   "codemirror_mode": {
    "name": "ipython",
    "version": 3
   },
   "file_extension": ".py",
   "mimetype": "text/x-python",
   "name": "python",
   "nbconvert_exporter": "python",
   "pygments_lexer": "ipython3",
   "version": "3.8.10"
  }
 },
 "nbformat": 4,
 "nbformat_minor": 5
}
